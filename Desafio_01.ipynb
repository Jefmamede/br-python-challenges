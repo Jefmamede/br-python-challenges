{
  "nbformat": 4,
  "nbformat_minor": 0,
  "metadata": {
    "anaconda-cloud": {},
    "colab": {
      "name": "Desafio 1.ipynb",
      "provenance": [],
      "include_colab_link": true
    },
    "kernelspec": {
      "display_name": "Python 3",
      "language": "python",
      "name": "python3"
    },
    "language_info": {
      "codemirror_mode": {
        "name": "ipython",
        "version": 3
      },
      "file_extension": ".py",
      "mimetype": "text/x-python",
      "name": "python",
      "nbconvert_exporter": "python",
      "pygments_lexer": "ipython3",
      "version": "3.7.9"
    }
  },
  "cells": [
    {
      "cell_type": "markdown",
      "metadata": {
        "id": "view-in-github",
        "colab_type": "text"
      },
      "source": [
        "<a href=\"https://colab.research.google.com/github/Jefmamede/br-python-challenges/blob/master/Desafio_01.ipynb\" target=\"_parent\"><img src=\"https://colab.research.google.com/assets/colab-badge.svg\" alt=\"Open In Colab\"/></a>"
      ]
    },
    {
      "cell_type": "markdown",
      "metadata": {
        "id": "SbLLE9q1eldC"
      },
      "source": [
        "### Desafio 1\n",
        "\n",
        "Escreva um programa em Python para contabilizar a quantidade de ocorrências de cada palavra."
      ]
    },
    {
      "cell_type": "code",
      "metadata": {
        "id": "WhtbdwFseldD"
      },
      "source": [
        "palavras = [\n",
        "   'red', 'green', 'black', 'pink', 'black', 'white', 'black', 'eyes',\n",
        "   'white', 'black', 'orange', 'pink', 'pink', 'red', 'red', 'white', 'orange',\n",
        "   'white', \"black\", 'pink', 'green', 'green', 'pink', 'green', 'pink',\n",
        "   'white', 'orange', \"orange\", 'red'\n",
        "]\n",
        "\n",
        "\n",
        "# Seu código"
      ],
      "execution_count": 1,
      "outputs": []
    },
    {
      "cell_type": "markdown",
      "metadata": {
        "id": "r_chlSzvBRaQ"
      },
      "source": [
        ""
      ]
    },
    {
      "cell_type": "code",
      "metadata": {
        "colab": {
          "base_uri": "https://localhost:8080/"
        },
        "id": "M58o1U9KfAxa",
        "outputId": "38d1b7ea-da16-40c6-c86c-d577e358ea90"
      },
      "source": [
        "for i in palavras:\n",
        "  quant = palavras.count(i)\n",
        "  print(\"Existem {} ocorrências da palavra {}\" .format(quant, i))\n"
      ],
      "execution_count": 20,
      "outputs": [
        {
          "output_type": "stream",
          "text": [
            "Existem 4 ocorrências da palavra red\n",
            "Existem 4 ocorrências da palavra green\n",
            "Existem 5 ocorrências da palavra black\n",
            "Existem 6 ocorrências da palavra pink\n",
            "Existem 5 ocorrências da palavra black\n",
            "Existem 5 ocorrências da palavra white\n",
            "Existem 5 ocorrências da palavra black\n",
            "Existem 1 ocorrências da palavra eyes\n",
            "Existem 5 ocorrências da palavra white\n",
            "Existem 5 ocorrências da palavra black\n",
            "Existem 4 ocorrências da palavra orange\n",
            "Existem 6 ocorrências da palavra pink\n",
            "Existem 6 ocorrências da palavra pink\n",
            "Existem 4 ocorrências da palavra red\n",
            "Existem 4 ocorrências da palavra red\n",
            "Existem 5 ocorrências da palavra white\n",
            "Existem 4 ocorrências da palavra orange\n",
            "Existem 5 ocorrências da palavra white\n",
            "Existem 5 ocorrências da palavra black\n",
            "Existem 6 ocorrências da palavra pink\n",
            "Existem 4 ocorrências da palavra green\n",
            "Existem 4 ocorrências da palavra green\n",
            "Existem 6 ocorrências da palavra pink\n",
            "Existem 4 ocorrências da palavra green\n",
            "Existem 6 ocorrências da palavra pink\n",
            "Existem 5 ocorrências da palavra white\n",
            "Existem 4 ocorrências da palavra orange\n",
            "Existem 4 ocorrências da palavra orange\n",
            "Existem 4 ocorrências da palavra red\n"
          ],
          "name": "stdout"
        }
      ]
    }
  ]
}