{
  "nbformat": 4,
  "nbformat_minor": 0,
  "metadata": {
    "anaconda-cloud": {},
    "colab": {
      "name": "Desafio 12.ipynb",
      "provenance": [],
      "include_colab_link": true
    },
    "kernelspec": {
      "display_name": "Python 3",
      "language": "python",
      "name": "python3"
    },
    "language_info": {
      "codemirror_mode": {
        "name": "ipython",
        "version": 3
      },
      "file_extension": ".py",
      "mimetype": "text/x-python",
      "name": "python",
      "nbconvert_exporter": "python",
      "pygments_lexer": "ipython3",
      "version": "3.7.9"
    }
  },
  "cells": [
    {
      "cell_type": "markdown",
      "metadata": {
        "id": "view-in-github",
        "colab_type": "text"
      },
      "source": [
        "<a href=\"https://colab.research.google.com/github/Jefmamede/br-python-challenges/blob/master/Desafio_12.ipynb\" target=\"_parent\"><img src=\"https://colab.research.google.com/assets/colab-badge.svg\" alt=\"Open In Colab\"/></a>"
      ]
    },
    {
      "cell_type": "markdown",
      "metadata": {
        "id": "AYHY2YXQf6J2"
      },
      "source": [
        "### Desafio 12\n",
        "\n",
        "Escreva uma função em Python para verificar a validade de uma senha.\n",
        "\n",
        "A senha deve ter:\n",
        "\n",
        "* Pelo menos 1 letra entre [a-z] e 1 letra entre [A-Z].\n",
        "* Pelo menos 1 número entre [0-9].\n",
        "* Pelo menos 1 caractere de [$ # @].\n",
        "* Comprimento mínimo de 6 caracteres.\n",
        "* Comprimento máximo de 16 caracteres.\n",
        "\n",
        "Entradas: \"12345678\", \"J3sus0\", \"#Te5t300\", \"J*90j12374\", \"Michheeul\", \"Monk3y6\"\n",
        "\n",
        "A saída deve ser a senha e um texto indicando se a senha é válida ou inválida:\n",
        "\n",
        "```\n",
        "\"1234\" - Senha inválida\n",
        "\"Qw#1234\" - Senha válida\n",
        "```"
      ]
    },
    {
      "cell_type": "code",
      "metadata": {
        "id": "cDqyTgfToAS2"
      },
      "source": [
        "def validar_senha(password):\n",
        "  import re\n",
        "  if len(password) > 6 and len(password) > 16:\n",
        "    print(password, ' - Senha inválida')\n",
        "  elif re.search('[a-z]',password) is None and re.search('[A-Z]',password) is None:\n",
        "    print(password, ' - Senha inválida')\n",
        "  elif re.search('[0-9]',password) is None and re.search('[$ # @]',password) is None:\n",
        "    print(password, ' - Senha inválida')\n",
        "  else:\n",
        "    print(password, ' - Senha válida')"
      ],
      "execution_count": 34,
      "outputs": []
    },
    {
      "cell_type": "code",
      "metadata": {
        "colab": {
          "base_uri": "https://localhost:8080/"
        },
        "id": "UGgtGYGGf6J3",
        "outputId": "7e2a281c-aa7e-4d04-f93f-0a24acbc5c86"
      },
      "source": [
        "# Solicitando a digitação da senha\n",
        "senha = input(\"Digite uma senha de 6 até 16 caracteres com pelo menos 1 letra minúscula, 1 letra maiúscula e 1 caracter especial: \")\n",
        "validar_senha(senha)"
      ],
      "execution_count": 36,
      "outputs": [
        {
          "output_type": "stream",
          "text": [
            "Digite uma senha de 6 até 16 caracteres com pelo menos 1 letra minúscula, 1 letra maiúscula e 1 caracter especial: 12@56aX6789#\n",
            "12@56aX6789#  - Senha válida\n"
          ],
          "name": "stdout"
        }
      ]
    }
  ]
}