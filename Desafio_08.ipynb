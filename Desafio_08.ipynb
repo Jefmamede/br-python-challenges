{
  "nbformat": 4,
  "nbformat_minor": 0,
  "metadata": {
    "anaconda-cloud": {},
    "colab": {
      "name": "Desafio 8.ipynb",
      "provenance": [],
      "include_colab_link": true
    },
    "kernelspec": {
      "display_name": "Python 3",
      "language": "python",
      "name": "python3"
    },
    "language_info": {
      "codemirror_mode": {
        "name": "ipython",
        "version": 3
      },
      "file_extension": ".py",
      "mimetype": "text/x-python",
      "name": "python",
      "nbconvert_exporter": "python",
      "pygments_lexer": "ipython3",
      "version": "3.7.9"
    }
  },
  "cells": [
    {
      "cell_type": "markdown",
      "metadata": {
        "id": "view-in-github",
        "colab_type": "text"
      },
      "source": [
        "<a href=\"https://colab.research.google.com/github/Jefmamede/br-python-challenges/blob/master/Desafio_08.ipynb\" target=\"_parent\"><img src=\"https://colab.research.google.com/assets/colab-badge.svg\" alt=\"Open In Colab\"/></a>"
      ]
    },
    {
      "cell_type": "markdown",
      "metadata": {
        "id": "o3tkeMDNf6Jo"
      },
      "source": [
        "### Desafio 8\n",
        "\n",
        "Escreva um script Python para encontrar as 10 palavras mais longas em um arquivo de texto.\n",
        "O arquivo .txt está localizado na mesma pasta do projeto (**texto.txt**)."
      ]
    },
    {
      "cell_type": "code",
      "metadata": {
        "id": "EknxjSG0f6Jo"
      },
      "source": [
        "import string\n",
        "from operator import itemgetter\n",
        "# Lendo o arquivo\n",
        "arq = open('/content/sample_data/texto.txt', 'r')"
      ],
      "execution_count": 13,
      "outputs": []
    },
    {
      "cell_type": "code",
      "metadata": {
        "colab": {
          "base_uri": "https://localhost:8080/"
        },
        "id": "ZYbqEWBG5nKx",
        "outputId": "128030a1-ae47-4e8b-8e81-389f8101457f"
      },
      "source": [
        "texto = arq.read()\n",
        "# substituindo a pontuação e hífen por espaços em branco\n",
        "for i in string.punctuation:\n",
        "  texto = texto.replace(i, ' ')\n",
        "  texto = texto.replace('-', ' ')\n",
        "\n",
        "# converte string para lista de palavras\n",
        "texto = texto.split()\n",
        "\n",
        "# Criando um dicionário com a palavra e o tamanho de cada uma\n",
        "l = {}\n",
        "for p in texto:\n",
        "  l[f'{p}'] = len(p)\n",
        "\n",
        "  # Colocando em ordem decrescente pelo tamanho da palavra key=itemgetter(1)\n",
        "  ordem = sorted(l.items(), key=itemgetter(1), reverse=True)\n",
        "\n",
        "# Mostrando as 10 maiores palavras e o número de letras \n",
        "for i, word in enumerate(ordem):\n",
        "  if i < 10:\n",
        "    print(word[0], word[1])\n",
        "\n"
      ],
      "execution_count": 14,
      "outputs": [
        {
          "output_type": "stream",
          "text": [
            "comprehensive 13\n",
            "intermediate 12\n",
            "interpreted 11\n",
            "programming 11\n",
            "readability 11\n",
            "programmers 11\n",
            "philosophy 10\n",
            "emphasizes 10\n",
            "imperative 10\n",
            "functional 10\n"
          ],
          "name": "stdout"
        }
      ]
    },
    {
      "cell_type": "code",
      "metadata": {
        "id": "8v7FZoFEgJ4A"
      },
      "source": [
        "import string\n",
        "\n",
        "def process_file(filename):\n",
        "    hist = dict()\n",
        "    fp = open(filename)\n",
        "    for line in fp:\n",
        "        process_line(line, hist)\n",
        "    return hist\n",
        "\n",
        "def process_line(line, hist):\n",
        "    line = line.replace('-', ' ')\n",
        "    for word in line.split():\n",
        "        word = word.strip(string.punctuation + string.whitespace)\n",
        "        word = word.lower()\n",
        "        hist[word] = hist.get(word, 0) + 1\n",
        "\n",
        "hist = process_file('/content/sample_data/texto.txt')"
      ],
      "execution_count": 30,
      "outputs": []
    },
    {
      "cell_type": "markdown",
      "metadata": {
        "id": "bhq3CAsnXPmi"
      },
      "source": [
        ""
      ]
    }
  ]
}