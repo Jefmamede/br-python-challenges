{
  "nbformat": 4,
  "nbformat_minor": 0,
  "metadata": {
    "anaconda-cloud": {},
    "colab": {
      "name": "Desafio 10.ipynb",
      "provenance": [],
      "include_colab_link": true
    },
    "kernelspec": {
      "display_name": "Python 3",
      "language": "python",
      "name": "python3"
    },
    "language_info": {
      "codemirror_mode": {
        "name": "ipython",
        "version": 3
      },
      "file_extension": ".py",
      "mimetype": "text/x-python",
      "name": "python",
      "nbconvert_exporter": "python",
      "pygments_lexer": "ipython3",
      "version": "3.7.9"
    }
  },
  "cells": [
    {
      "cell_type": "markdown",
      "metadata": {
        "id": "view-in-github",
        "colab_type": "text"
      },
      "source": [
        "<a href=\"https://colab.research.google.com/github/Jefmamede/br-python-challenges/blob/master/Desafio_10.ipynb\" target=\"_parent\"><img src=\"https://colab.research.google.com/assets/colab-badge.svg\" alt=\"Open In Colab\"/></a>"
      ]
    },
    {
      "cell_type": "markdown",
      "metadata": {
        "id": "a4-FLDRof6Jv"
      },
      "source": [
        "### Desafio 10\n",
        "\n",
        "Dada uma lista, divida-a em 3 partes iguais e reverta a ordem de cada lista.\n",
        "\n",
        "**Exemplo:** \n",
        "\n",
        "Entrada: \\\n",
        "sampleList = [11, 45, 8, 23, 14, 12, 78, 45, 89]\n",
        "\n",
        "Saída: \\\n",
        "Parte 1 [8, 45, 11] \\\n",
        "Parte 2 [12, 14, 23] \\\n",
        "Parte 3 [89, 45, 78] "
      ]
    },
    {
      "cell_type": "code",
      "metadata": {
        "colab": {
          "base_uri": "https://localhost:8080/"
        },
        "id": "IJ70pUjnf6Jw",
        "outputId": "690c745c-c57e-4237-b18e-47f492b2e94a"
      },
      "source": [
        "# Solicitando um número múltiplo de 3 para o usuário\n",
        "n = int(input('Digite um número multiplo de 3: '))\n",
        "\n",
        "#Criando uma lista com a quantidade de elementos correspondente ao número digitado\n",
        "lista = list(range(n))\n"
      ],
      "execution_count": 57,
      "outputs": [
        {
          "output_type": "stream",
          "text": [
            "Digite um número multiplo de 3: 15\n"
          ],
          "name": "stdout"
        }
      ]
    },
    {
      "cell_type": "code",
      "metadata": {
        "id": "pNrXNVqf8Wc1"
      },
      "source": [
        "#Obtendo o tamanho da lista e dividindo a lista por 3\n",
        "q = int(len(lista) / 3)\n",
        "\n",
        "#fatiando a lista, deletando os ítens já copiados para a variável f1 e revertendo a lista copiada\n",
        "f1 = lista[ : q]\n",
        "del lista[ : q]\n",
        "f1.reverse()\n",
        "f2 = lista[ : q]\n",
        "del lista[ : q]\n",
        "f2.reverse()\n",
        "f3 = lista.reverse()\n",
        "\n"
      ],
      "execution_count": 58,
      "outputs": []
    },
    {
      "cell_type": "code",
      "metadata": {
        "id": "l22xzlIWjEJd",
        "outputId": "9e076090-328a-4c6c-d61b-83b69a4a82fa",
        "colab": {
          "base_uri": "https://localhost:8080/"
        }
      },
      "source": [
        "print(f1)\n",
        "print(f2)\n",
        "print(lista)"
      ],
      "execution_count": 59,
      "outputs": [
        {
          "output_type": "stream",
          "text": [
            "[4, 3, 2, 1, 0]\n",
            "[9, 8, 7, 6, 5]\n",
            "[14, 13, 12, 11, 10]\n"
          ],
          "name": "stdout"
        }
      ]
    }
  ]
}