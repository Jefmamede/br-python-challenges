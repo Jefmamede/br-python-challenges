{
  "nbformat": 4,
  "nbformat_minor": 0,
  "metadata": {
    "anaconda-cloud": {},
    "colab": {
      "name": "Desafio 11.ipynb",
      "provenance": [],
      "include_colab_link": true
    },
    "kernelspec": {
      "display_name": "Python 3",
      "language": "python",
      "name": "python3"
    },
    "language_info": {
      "codemirror_mode": {
        "name": "ipython",
        "version": 3
      },
      "file_extension": ".py",
      "mimetype": "text/x-python",
      "name": "python",
      "nbconvert_exporter": "python",
      "pygments_lexer": "ipython3",
      "version": "3.7.9"
    }
  },
  "cells": [
    {
      "cell_type": "markdown",
      "metadata": {
        "id": "view-in-github",
        "colab_type": "text"
      },
      "source": [
        "<a href=\"https://colab.research.google.com/github/Jefmamede/br-python-challenges/blob/master/Desafio_11.ipynb\" target=\"_parent\"><img src=\"https://colab.research.google.com/assets/colab-badge.svg\" alt=\"Open In Colab\"/></a>"
      ]
    },
    {
      "cell_type": "markdown",
      "metadata": {
        "id": "y1R0m4oWf6Jz"
      },
      "source": [
        "### Desafio 8\n",
        "Dados uma sequência com `n` números inteiros, determinar quantos números da sequência são pares e quantos são ímpares.\\\n",
        "Por exemplo, para a sequência\n",
        "\n",
        "`6   2   7  -5   8  -4`\n",
        "\n",
        "a sua função deve retornar o número 4 para o número de pares e 2 para o de ímpares.\\\n",
        "A saída deve ser um **tupla** contendo primeiramente o número de pares e em seguida o número de ímpares.\\\n",
        "Para o exemplo anterior, a saída seria `(4, 2)`."
      ]
    },
    {
      "cell_type": "code",
      "metadata": {
        "id": "yBL-KxOwtGK2"
      },
      "source": [
        "def contar_pares_impares(*entrada):\n",
        "  # Iniciando as variáveis par e ímpar\n",
        "  par = 0\n",
        "  impar = 0\n",
        "  \n",
        "  # Percorrendo a lista e verificando se o número é par\n",
        "  for n in entrada:\n",
        "    if n % 2 == 0:\n",
        "      par += 1\n",
        "    else:\n",
        "      impar += 1\n",
        "      \n",
        "  # Colocando as variáveis em tupla    \n",
        "  resultado = (par, impar)\n",
        "  return  (print(resultado, f\"\\nVocê digitou {par} números pares e {impar} números ímpares\"))"
      ],
      "execution_count": 44,
      "outputs": []
    },
    {
      "cell_type": "code",
      "metadata": {
        "colab": {
          "base_uri": "https://localhost:8080/"
        },
        "id": "pSIzX4zUf6Jz",
        "outputId": "fbe76ece-2664-41c3-eb86-f9a4420cd2cc"
      },
      "source": [
        "# Iniciando a lista e a variável a\n",
        "lista = []\n",
        "a = ''\n",
        "\n",
        "# Quando o usuário quiser finalizar basta digitar fim e o programa para de solicitar a digitação\n",
        "while a != 'fim':\n",
        "  # Capturando os dados\n",
        "  a = input(\"Digite os números e informaremos quantos são pares e quantos são ímpares; para terminar digite fim: \")\n",
        "  if a == 'fim':\n",
        "    break\n",
        "  else:\n",
        "    lista.append(int(a))\n",
        "\n",
        "# Chamando a função e passando a lista como parâmetro\n",
        "contar_pares_impares(*lista)\n"
      ],
      "execution_count": 45,
      "outputs": [
        {
          "output_type": "stream",
          "text": [
            "Digite os números e informaremos quantos são pares e quantos são ímpares; para terminar digite fim: 1\n",
            "Digite os números e informaremos quantos são pares e quantos são ímpares; para terminar digite fim: 3\n",
            "Digite os números e informaremos quantos são pares e quantos são ímpares; para terminar digite fim: 4\n",
            "Digite os números e informaremos quantos são pares e quantos são ímpares; para terminar digite fim: 7\n",
            "Digite os números e informaremos quantos são pares e quantos são ímpares; para terminar digite fim: 12\n",
            "Digite os números e informaremos quantos são pares e quantos são ímpares; para terminar digite fim: 15\n",
            "Digite os números e informaremos quantos são pares e quantos são ímpares; para terminar digite fim: 14\n",
            "Digite os números e informaremos quantos são pares e quantos são ímpares; para terminar digite fim: 22\n",
            "Digite os números e informaremos quantos são pares e quantos são ímpares; para terminar digite fim: 24\n",
            "Digite os números e informaremos quantos são pares e quantos são ímpares; para terminar digite fim: 32\n",
            "Digite os números e informaremos quantos são pares e quantos são ímpares; para terminar digite fim: fim\n",
            "(6, 4) \n",
            "Você digitou 6 números pares e 4 números ímpares\n"
          ],
          "name": "stdout"
        }
      ]
    }
  ]
}